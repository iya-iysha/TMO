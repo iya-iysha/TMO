{
 "cells": [
  {
   "cell_type": "markdown",
   "metadata": {},
   "source": [
    "# РК2"
   ]
  },
  {
   "cell_type": "markdown",
   "metadata": {},
   "source": [
    "## ИУ5-63Б Ваксина Ия Р."
   ]
  },
  {
   "cell_type": "markdown",
   "metadata": {},
   "source": [
    "### Импорт библиотек"
   ]
  },
  {
   "cell_type": "code",
   "execution_count": 1,
   "metadata": {},
   "outputs": [],
   "source": [
    "import numpy as np\n",
    "import pandas as pd\n",
    "import seaborn as sns\n",
    "import matplotlib.pyplot as plt\n",
    "from pandas.plotting import scatter_matrix\n",
    "from sklearn.model_selection import train_test_split\n",
    "import warnings\n",
    "warnings.filterwarnings('ignore')\n",
    "sns.set(style=\"ticks\")\n",
    "%matplotlib inline"
   ]
  },
  {
   "cell_type": "code",
   "execution_count": 2,
   "metadata": {},
   "outputs": [],
   "source": [
    "data = pd.read_csv('Stars.csv')"
   ]
  },
  {
   "cell_type": "code",
   "execution_count": 3,
   "metadata": {},
   "outputs": [
    {
     "data": {
      "text/html": [
       "<div>\n",
       "<style scoped>\n",
       "    .dataframe tbody tr th:only-of-type {\n",
       "        vertical-align: middle;\n",
       "    }\n",
       "\n",
       "    .dataframe tbody tr th {\n",
       "        vertical-align: top;\n",
       "    }\n",
       "\n",
       "    .dataframe thead th {\n",
       "        text-align: right;\n",
       "    }\n",
       "</style>\n",
       "<table border=\"1\" class=\"dataframe\">\n",
       "  <thead>\n",
       "    <tr style=\"text-align: right;\">\n",
       "      <th></th>\n",
       "      <th>Temperature</th>\n",
       "      <th>L</th>\n",
       "      <th>R</th>\n",
       "      <th>A_M</th>\n",
       "      <th>Color</th>\n",
       "      <th>Spectral_Class</th>\n",
       "      <th>Type</th>\n",
       "    </tr>\n",
       "  </thead>\n",
       "  <tbody>\n",
       "    <tr>\n",
       "      <th>0</th>\n",
       "      <td>3068</td>\n",
       "      <td>0.002400</td>\n",
       "      <td>0.1700</td>\n",
       "      <td>16.12</td>\n",
       "      <td>Red</td>\n",
       "      <td>M</td>\n",
       "      <td>0</td>\n",
       "    </tr>\n",
       "    <tr>\n",
       "      <th>1</th>\n",
       "      <td>3042</td>\n",
       "      <td>0.000500</td>\n",
       "      <td>0.1542</td>\n",
       "      <td>16.60</td>\n",
       "      <td>Red</td>\n",
       "      <td>M</td>\n",
       "      <td>0</td>\n",
       "    </tr>\n",
       "    <tr>\n",
       "      <th>2</th>\n",
       "      <td>2600</td>\n",
       "      <td>0.000300</td>\n",
       "      <td>0.1020</td>\n",
       "      <td>18.70</td>\n",
       "      <td>Red</td>\n",
       "      <td>M</td>\n",
       "      <td>0</td>\n",
       "    </tr>\n",
       "    <tr>\n",
       "      <th>3</th>\n",
       "      <td>2800</td>\n",
       "      <td>0.000200</td>\n",
       "      <td>0.1600</td>\n",
       "      <td>16.65</td>\n",
       "      <td>Red</td>\n",
       "      <td>M</td>\n",
       "      <td>0</td>\n",
       "    </tr>\n",
       "    <tr>\n",
       "      <th>4</th>\n",
       "      <td>1939</td>\n",
       "      <td>0.000138</td>\n",
       "      <td>0.1030</td>\n",
       "      <td>20.06</td>\n",
       "      <td>Red</td>\n",
       "      <td>M</td>\n",
       "      <td>0</td>\n",
       "    </tr>\n",
       "  </tbody>\n",
       "</table>\n",
       "</div>"
      ],
      "text/plain": [
       "   Temperature         L       R    A_M Color Spectral_Class  Type\n",
       "0         3068  0.002400  0.1700  16.12   Red              M     0\n",
       "1         3042  0.000500  0.1542  16.60   Red              M     0\n",
       "2         2600  0.000300  0.1020  18.70   Red              M     0\n",
       "3         2800  0.000200  0.1600  16.65   Red              M     0\n",
       "4         1939  0.000138  0.1030  20.06   Red              M     0"
      ]
     },
     "execution_count": 3,
     "metadata": {},
     "output_type": "execute_result"
    }
   ],
   "source": [
    "data.head()"
   ]
  },
  {
   "cell_type": "code",
   "execution_count": 4,
   "metadata": {},
   "outputs": [
    {
     "data": {
      "text/plain": [
       "Temperature         int64\n",
       "L                 float64\n",
       "R                 float64\n",
       "A_M               float64\n",
       "Color              object\n",
       "Spectral_Class     object\n",
       "Type                int64\n",
       "dtype: object"
      ]
     },
     "execution_count": 4,
     "metadata": {},
     "output_type": "execute_result"
    }
   ],
   "source": [
    "data.dtypes"
   ]
  },
  {
   "cell_type": "code",
   "execution_count": 5,
   "metadata": {},
   "outputs": [],
   "source": [
    "data.drop(['Color','Spectral_Class','Color'], axis = 1, inplace = True)"
   ]
  },
  {
   "cell_type": "code",
   "execution_count": 6,
   "metadata": {},
   "outputs": [
    {
     "data": {
      "text/plain": [
       "Temperature    0\n",
       "L              0\n",
       "R              0\n",
       "A_M            0\n",
       "Type           0\n",
       "dtype: int64"
      ]
     },
     "execution_count": 6,
     "metadata": {},
     "output_type": "execute_result"
    }
   ],
   "source": [
    "data.isnull().sum()\n",
    "# проверим есть ли пропущенные значения"
   ]
  },
  {
   "cell_type": "code",
   "execution_count": 7,
   "metadata": {},
   "outputs": [
    {
     "name": "stdout",
     "output_type": "stream",
     "text": [
      "<class 'pandas.core.frame.DataFrame'>\n",
      "RangeIndex: 240 entries, 0 to 239\n",
      "Data columns (total 5 columns):\n",
      " #   Column       Non-Null Count  Dtype  \n",
      "---  ------       --------------  -----  \n",
      " 0   Temperature  240 non-null    int64  \n",
      " 1   L            240 non-null    float64\n",
      " 2   R            240 non-null    float64\n",
      " 3   A_M          240 non-null    float64\n",
      " 4   Type         240 non-null    int64  \n",
      "dtypes: float64(3), int64(2)\n",
      "memory usage: 9.5 KB\n"
     ]
    }
   ],
   "source": [
    "data.info()"
   ]
  },
  {
   "cell_type": "code",
   "execution_count": 8,
   "metadata": {},
   "outputs": [
    {
     "data": {
      "text/html": [
       "<div>\n",
       "<style scoped>\n",
       "    .dataframe tbody tr th:only-of-type {\n",
       "        vertical-align: middle;\n",
       "    }\n",
       "\n",
       "    .dataframe tbody tr th {\n",
       "        vertical-align: top;\n",
       "    }\n",
       "\n",
       "    .dataframe thead th {\n",
       "        text-align: right;\n",
       "    }\n",
       "</style>\n",
       "<table border=\"1\" class=\"dataframe\">\n",
       "  <thead>\n",
       "    <tr style=\"text-align: right;\">\n",
       "      <th></th>\n",
       "      <th>Temperature</th>\n",
       "      <th>L</th>\n",
       "      <th>R</th>\n",
       "      <th>A_M</th>\n",
       "      <th>Type</th>\n",
       "    </tr>\n",
       "  </thead>\n",
       "  <tbody>\n",
       "    <tr>\n",
       "      <th>0</th>\n",
       "      <td>3068</td>\n",
       "      <td>0.002400</td>\n",
       "      <td>0.1700</td>\n",
       "      <td>16.12</td>\n",
       "      <td>0</td>\n",
       "    </tr>\n",
       "    <tr>\n",
       "      <th>1</th>\n",
       "      <td>3042</td>\n",
       "      <td>0.000500</td>\n",
       "      <td>0.1542</td>\n",
       "      <td>16.60</td>\n",
       "      <td>0</td>\n",
       "    </tr>\n",
       "    <tr>\n",
       "      <th>2</th>\n",
       "      <td>2600</td>\n",
       "      <td>0.000300</td>\n",
       "      <td>0.1020</td>\n",
       "      <td>18.70</td>\n",
       "      <td>0</td>\n",
       "    </tr>\n",
       "    <tr>\n",
       "      <th>3</th>\n",
       "      <td>2800</td>\n",
       "      <td>0.000200</td>\n",
       "      <td>0.1600</td>\n",
       "      <td>16.65</td>\n",
       "      <td>0</td>\n",
       "    </tr>\n",
       "    <tr>\n",
       "      <th>4</th>\n",
       "      <td>1939</td>\n",
       "      <td>0.000138</td>\n",
       "      <td>0.1030</td>\n",
       "      <td>20.06</td>\n",
       "      <td>0</td>\n",
       "    </tr>\n",
       "  </tbody>\n",
       "</table>\n",
       "</div>"
      ],
      "text/plain": [
       "   Temperature         L       R    A_M  Type\n",
       "0         3068  0.002400  0.1700  16.12     0\n",
       "1         3042  0.000500  0.1542  16.60     0\n",
       "2         2600  0.000300  0.1020  18.70     0\n",
       "3         2800  0.000200  0.1600  16.65     0\n",
       "4         1939  0.000138  0.1030  20.06     0"
      ]
     },
     "execution_count": 8,
     "metadata": {},
     "output_type": "execute_result"
    }
   ],
   "source": [
    "data.head()"
   ]
  },
  {
   "cell_type": "code",
   "execution_count": 9,
   "metadata": {},
   "outputs": [
    {
     "data": {
      "text/plain": [
       "<AxesSubplot:>"
      ]
     },
     "execution_count": 9,
     "metadata": {},
     "output_type": "execute_result"
    },
    {
     "data": {
      "image/png": "[encoded data removed]",
      "text/plain": [
       "<Figure size 1080x504 with 2 Axes>"
      ]
     },
     "metadata": {
      "needs_background": "light"
     },
     "output_type": "display_data"
    }
   ],
   "source": [
    "#Построим корреляционную матрицу\n",
    "fig, ax = plt.subplots(figsize=(15,7))\n",
    "sns.heatmap(data.corr(method='pearson'), ax=ax, annot=True, fmt='.2f')"
   ]
  },
  {
   "cell_type": "code",
   "execution_count": 10,
   "metadata": {},
   "outputs": [
    {
     "name": "stdout",
     "output_type": "stream",
     "text": [
      "Входные данные:\n",
      "\n",
      "    Temperature       R    A_M  Type\n",
      "0         3068  0.1700  16.12     0\n",
      "1         3042  0.1542  16.60     0\n",
      "2         2600  0.1020  18.70     0\n",
      "3         2800  0.1600  16.65     0\n",
      "4         1939  0.1030  20.06     0 \n",
      "\n",
      "Выходные данные:\n",
      "\n",
      " 0    0\n",
      "1    0\n",
      "2    0\n",
      "3    0\n",
      "4    0\n",
      "Name: L, dtype: int64\n"
     ]
    }
   ],
   "source": [
    "data['L'] = data['L'].astype(int)\n",
    "X = data.drop(['L'], axis = 1)\n",
    "Y = data.L\n",
    "print('Входные данные:\\n\\n', X.head(), '\\n\\nВыходные данные:\\n\\n', Y.head())"
   ]
  },
  {
   "cell_type": "code",
   "execution_count": 11,
   "metadata": {},
   "outputs": [
    {
     "name": "stdout",
     "output_type": "stream",
     "text": [
      "Входные параметры обучающей выборки:\n",
      "\n",
      "      Temperature      R     A_M  Type\n",
      "5           2840  0.110  16.980     0\n",
      "22          7220  0.011  14.230     2\n",
      "199         3463  0.675  14.776     1\n",
      "97          7720  1.340   2.440     3\n",
      "12          3134  0.196  13.210     1 \n",
      "\n",
      "Входные параметры тестовой выборки:\n",
      "\n",
      "      Temperature       R    A_M  Type\n",
      "109        33421  67.000  -5.79     4\n",
      "71          3607   0.380  10.12     1\n",
      "37          6380   0.980   2.93     3\n",
      "74          3550   0.291  10.89     1\n",
      "108        24345  57.000  -6.24     4 \n",
      "\n",
      "Выходные параметры обучающей выборки:\n",
      "\n",
      " 5      0\n",
      "22     0\n",
      "199    0\n",
      "97     7\n",
      "12     0\n",
      "Name: L, dtype: int64 \n",
      "\n",
      "Выходные параметры тестовой выборки:\n",
      "\n",
      " 109    352000\n",
      "71          0\n",
      "37          1\n",
      "74          0\n",
      "108    142000\n",
      "Name: L, dtype: int64\n"
     ]
    }
   ],
   "source": [
    "X_train,  X_test,  Y_train,  Y_test = train_test_split(X,  Y, random_state = 0, test_size = 0.1)\n",
    "print('Входные параметры обучающей выборки:\\n\\n',X_train.head(), \\\n",
    "      '\\n\\nВходные параметры тестовой выборки:\\n\\n', X_test.head(), \\\n",
    "      '\\n\\nВыходные параметры обучающей выборки:\\n\\n', Y_train.head(), \\\n",
    "      '\\n\\nВыходные параметры тестовой выборки:\\n\\n', Y_test.head())"
   ]
  },
  {
   "cell_type": "code",
   "execution_count": 12,
   "metadata": {},
   "outputs": [],
   "source": [
    "from sklearn.tree import DecisionTreeClassifier, DecisionTreeRegressor, export_graphviz\n",
    "from sklearn.tree import export_graphviz\n",
    "from sklearn import tree\n",
    "import re"
   ]
  },
  {
   "cell_type": "code",
   "execution_count": 13,
   "metadata": {},
   "outputs": [
    {
     "data": {
      "text/html": [
       "<pre>|--- A_M <= 4.57\n",
       "|   |--- R <= 1.23\n",
       "|   |   |--- class: 1\n",
       "|   |--- R >  1.23\n",
       "|   |   |--- Temperature <= 3830.00\n",
       "|   |   |   |--- Temperature <= 3766.00\n",
       "|   |   |   |   |--- Temperature <= 3544.00\n",
       "|   |   |   |   |   |--- A_M <= -6.71\n",
       "|   |   |   |   |   |   |--- A_M <= -11.55\n",
       "|   |   |   |   |   |   |   |--- class: 263000\n",
       "|   |   |   |   |   |   |--- A_M >  -11.55\n",
       "|   |   |   |   |   |   |   |--- Type <= 4.50\n",
       "|   |   |   |   |   |   |   |   |--- class: 195000\n",
       "|   |   |   |   |   |   |   |--- Type >  4.50\n",
       "|   |   |   |   |   |   |   |   |--- R <= 1286.50\n",
       "|   |   |   |   |   |   |   |   |   |--- class: 174000\n",
       "|   |   |   |   |   |   |   |   |--- R >  1286.50\n",
       "|   |   |   |   |   |   |   |   |   |--- R <= 1354.50\n",
       "|   |   |   |   |   |   |   |   |   |   |--- class: 100000\n",
       "|   |   |   |   |   |   |   |   |   |--- R >  1354.50\n",
       "|   |   |   |   |   |   |   |   |   |   |--- R <= 1453.00\n",
       "|   |   |   |   |   |   |   |   |   |   |   |--- class: 138000\n",
       "|   |   |   |   |   |   |   |   |   |   |--- R >  1453.00\n",
       "|   |   |   |   |   |   |   |   |   |   |   |--- truncated branch of depth 3\n",
       "|   |   |   |   |   |--- A_M >  -6.71\n",
       "|   |   |   |   |   |   |--- A_M <= -6.11\n",
       "|   |   |   |   |   |   |   |--- class: 340000\n",
       "|   |   |   |   |   |   |--- A_M >  -6.11\n",
       "|   |   |   |   |   |   |   |--- A_M <= -6.01\n",
       "|   |   |   |   |   |   |   |   |--- class: 150000\n",
       "|   |   |   |   |   |   |   |--- A_M >  -6.01\n",
       "|   |   |   |   |   |   |   |   |--- class: 280000\n",
       "|   |   |   |   |--- Temperature >  3544.00\n",
       "|   |   |   |   |   |--- Temperature <= 3620.00\n",
       "|   |   |   |   |   |   |--- A_M <= -7.64\n",
       "|   |   |   |   |   |   |   |--- R <= 1257.00\n",
       "|   |   |   |   |   |   |   |   |--- Temperature <= 3602.50\n",
       "|   |   |   |   |   |   |   |   |   |--- class: 240000\n",
       "|   |   |   |   |   |   |   |   |--- Temperature >  3602.50\n",
       "|   |   |   |   |   |   |   |   |   |--- class: 126000\n",
       "|   |   |   |   |   |   |   |--- R >  1257.00\n",
       "|   |   |   |   |   |   |   |   |--- R <= 1594.00\n",
       "|   |   |   |   |   |   |   |   |   |--- A_M <= -10.94\n",
       "|   |   |   |   |   |   |   |   |   |   |--- class: 145000\n",
       "|   |   |   |   |   |   |   |   |   |--- A_M >  -10.94\n",
       "|   |   |   |   |   |   |   |   |   |   |--- A_M <= -9.28\n",
       "|   |   |   |   |   |   |   |   |   |   |   |--- class: 132000\n",
       "|   |   |   |   |   |   |   |   |   |   |--- A_M >  -9.28\n",
       "|   |   |   |   |   |   |   |   |   |   |   |--- class: 145000\n",
       "|   |   |   |   |   |   |   |   |--- R >  1594.00\n",
       "|   |   |   |   |   |   |   |   |   |--- class: 200000\n",
       "|   |   |   |   |   |   |--- A_M >  -7.64\n",
       "|   |   |   |   |   |   |   |--- A_M <= -5.92\n",
       "|   |   |   |   |   |   |   |   |--- Type <= 4.50\n",
       "|   |   |   |   |   |   |   |   |   |--- Temperature <= 3587.50\n",
       "|   |   |   |   |   |   |   |   |   |   |--- class: 123000\n",
       "|   |   |   |   |   |   |   |   |   |--- Temperature >  3587.50\n",
       "|   |   |   |   |   |   |   |   |   |   |--- class: 320000\n",
       "|   |   |   |   |   |   |   |   |--- Type >  4.50\n",
       "|   |   |   |   |   |   |   |   |   |--- class: 320000\n",
       "|   |   |   |   |   |   |   |--- A_M >  -5.92\n",
       "|   |   |   |   |   |   |   |   |--- class: 200000\n",
       "|   |   |   |   |   |--- Temperature >  3620.00\n",
       "|   |   |   |   |   |   |--- R <= 480.00\n",
       "|   |   |   |   |   |   |   |--- class: 184000\n",
       "|   |   |   |   |   |   |--- R >  480.00\n",
       "|   |   |   |   |   |   |   |--- A_M <= -11.58\n",
       "|   |   |   |   |   |   |   |   |--- class: 363000\n",
       "|   |   |   |   |   |   |   |--- A_M >  -11.58\n",
       "|   |   |   |   |   |   |   |   |--- A_M <= -10.74\n",
       "|   |   |   |   |   |   |   |   |   |--- class: 209000\n",
       "|   |   |   |   |   |   |   |   |--- A_M >  -10.74\n",
       "|   |   |   |   |   |   |   |   |   |--- R <= 1068.00\n",
       "|   |   |   |   |   |   |   |   |   |   |--- class: 74000\n",
       "|   |   |   |   |   |   |   |   |   |--- R >  1068.00\n",
       "|   |   |   |   |   |   |   |   |   |   |--- Temperature <= 3699.50\n",
       "|   |   |   |   |   |   |   |   |   |   |   |--- class: 310000\n",
       "|   |   |   |   |   |   |   |   |   |   |--- Temperature >  3699.50\n",
       "|   |   |   |   |   |   |   |   |   |   |   |--- truncated branch of depth 2\n",
       "|   |   |   |--- Temperature >  3766.00\n",
       "|   |   |   |   |--- class: 200000\n",
       "|   |   |--- Temperature >  3830.00\n",
       "|   |   |   |--- Temperature <= 26256.50\n",
       "|   |   |   |   |--- Type <= 3.50\n",
       "|   |   |   |   |   |--- A_M <= -3.89\n",
       "|   |   |   |   |   |   |--- class: 14500\n",
       "|   |   |   |   |   |--- A_M >  -3.89\n",
       "|   |   |   |   |   |   |--- A_M <= -3.74\n",
       "|   |   |   |   |   |   |   |--- class: 14520\n",
       "|   |   |   |   |   |   |--- A_M >  -3.74\n",
       "|   |   |   |   |   |   |   |--- A_M <= -3.54\n",
       "|   |   |   |   |   |   |   |   |--- class: 12450\n",
       "|   |   |   |   |   |   |   |--- A_M >  -3.54\n",
       "|   |   |   |   |   |   |   |   |--- Temperature <= 7886.00\n",
       "|   |   |   |   |   |   |   |   |   |--- class: 7\n",
       "|   |   |   |   |   |   |   |   |--- Temperature >  7886.00\n",
       "|   |   |   |   |   |   |   |   |   |--- A_M <= -3.36\n",
       "|   |   |   |   |   |   |   |   |   |   |--- class: 4720\n",
       "|   |   |   |   |   |   |   |   |   |--- A_M >  -3.36\n",
       "|   |   |   |   |   |   |   |   |   |   |--- R <= 1.85\n",
       "|   |   |   |   |   |   |   |   |   |   |   |--- class: 8\n",
       "|   |   |   |   |   |   |   |   |   |   |--- R >  1.85\n",
       "|   |   |   |   |   |   |   |   |   |   |   |--- truncated branch of depth 16\n",
       "|   |   |   |   |--- Type >  3.50\n",
       "|   |   |   |   |   |--- R <= 18.00\n",
       "|   |   |   |   |   |   |--- class: 112000\n",
       "|   |   |   |   |   |--- R >  18.00\n",
       "|   |   |   |   |   |   |--- Temperature <= 3924.50\n",
       "|   |   |   |   |   |   |   |--- class: 272000\n",
       "|   |   |   |   |   |   |--- Temperature >  3924.50\n",
       "|   |   |   |   |   |   |   |--- Temperature <= 4151.00\n",
       "|   |   |   |   |   |   |   |   |--- class: 282000\n",
       "|   |   |   |   |   |   |   |--- Temperature >  4151.00\n",
       "|   |   |   |   |   |   |   |   |--- Type <= 4.50\n",
       "|   |   |   |   |   |   |   |   |   |--- A_M <= -7.40\n",
       "|   |   |   |   |   |   |   |   |   |   |--- class: 224780\n",
       "|   |   |   |   |   |   |   |   |   |--- A_M >  -7.40\n",
       "|   |   |   |   |   |   |   |   |   |   |--- R <= 24.50\n",
       "|   |   |   |   |   |   |   |   |   |   |   |--- truncated branch of depth 2\n",
       "|   |   |   |   |   |   |   |   |   |   |--- R >  24.50\n",
       "|   |   |   |   |   |   |   |   |   |   |   |--- truncated branch of depth 19\n",
       "|   |   |   |   |   |   |   |   |--- Type >  4.50\n",
       "|   |   |   |   |   |   |   |   |   |--- Temperature <= 5568.50\n",
       "|   |   |   |   |   |   |   |   |   |   |--- class: 630000\n",
       "|   |   |   |   |   |   |   |   |   |--- Temperature >  5568.50\n",
       "|   |   |   |   |   |   |   |   |   |   |--- R <= 876.95\n",
       "|   |   |   |   |   |   |   |   |   |   |   |--- class: 120000\n",
       "|   |   |   |   |   |   |   |   |   |   |--- R >  876.95\n",
       "|   |   |   |   |   |   |   |   |   |   |   |--- truncated branch of depth 9\n",
       "|   |   |   |--- Temperature >  26256.50\n",
       "|   |   |   |   |--- A_M <= -5.96\n",
       "|   |   |   |   |   |--- Temperature <= 29289.00\n",
       "|   |   |   |   |   |   |--- class: 849420\n",
       "|   |   |   |   |   |--- Temperature >  29289.00\n",
       "|   |   |   |   |   |   |--- Temperature <= 31664.00\n",
       "|   |   |   |   |   |   |   |--- class: 834042\n",
       "|   |   |   |   |   |   |--- Temperature >  31664.00\n",
       "|   |   |   |   |   |   |   |--- Type <= 4.50\n",
       "|   |   |   |   |   |   |   |   |--- Temperature <= 33525.00\n",
       "|   |   |   |   |   |   |   |   |   |--- class: 240000\n",
       "|   |   |   |   |   |   |   |   |--- Temperature >  33525.00\n",
       "|   |   |   |   |   |   |   |   |   |--- Temperature <= 36875.00\n",
       "|   |   |   |   |   |   |   |   |   |   |--- class: 220000\n",
       "|   |   |   |   |   |   |   |   |   |--- Temperature >  36875.00\n",
       "|   |   |   |   |   |   |   |   |   |   |--- class: 813000\n",
       "|   |   |   |   |   |   |   |--- Type >  4.50\n",
       "|   |   |   |   |   |   |   |   |--- A_M <= -10.39\n",
       "|   |   |   |   |   |   |   |   |   |--- class: 648430\n",
       "|   |   |   |   |   |   |   |   |--- A_M >  -10.39\n",
       "|   |   |   |   |   |   |   |   |   |--- R <= 1569.50\n",
       "|   |   |   |   |   |   |   |   |   |   |--- A_M <= -9.61\n",
       "|   |   |   |   |   |   |   |   |   |   |   |--- class: 374830\n",
       "|   |   |   |   |   |   |   |   |   |   |--- A_M >  -9.61\n",
       "|   |   |   |   |   |   |   |   |   |   |   |--- class: 272830\n",
       "|   |   |   |   |   |   |   |   |   |--- R >  1569.50\n",
       "|   |   |   |   |   |   |   |   |   |   |--- class: 294903\n",
       "|   |   |   |   |--- A_M >  -5.96\n",
       "|   |   |   |   |   |--- R <= 8.53\n",
       "|   |   |   |   |   |   |--- R <= 6.13\n",
       "|   |   |   |   |   |   |   |--- class: 188000\n",
       "|   |   |   |   |   |   |--- R >  6.13\n",
       "|   |   |   |   |   |   |   |--- R <= 6.27\n",
       "|   |   |   |   |   |   |   |   |--- class: 173800\n",
       "|   |   |   |   |   |   |   |--- R >  6.27\n",
       "|   |   |   |   |   |   |   |   |--- R <= 6.35\n",
       "|   |   |   |   |   |   |   |   |   |--- class: 28840\n",
       "|   |   |   |   |   |   |   |   |--- R >  6.35\n",
       "|   |   |   |   |   |   |   |   |   |--- A_M <= -4.57\n",
       "|   |   |   |   |   |   |   |   |   |   |--- class: 198200\n",
       "|   |   |   |   |   |   |   |   |   |--- A_M >  -4.57\n",
       "|   |   |   |   |   |   |   |   |   |   |--- R <= 6.63\n",
       "|   |   |   |   |   |   |   |   |   |   |   |--- class: 16790\n",
       "|   |   |   |   |   |   |   |   |   |   |--- R >  6.63\n",
       "|   |   |   |   |   |   |   |   |   |   |   |--- class: 202900\n",
       "|   |   |   |   |   |--- R >  8.53\n",
       "|   |   |   |   |   |   |--- Temperature <= 37554.00\n",
       "|   |   |   |   |   |   |   |--- R <= 53.00\n",
       "|   |   |   |   |   |   |   |   |--- class: 198000\n",
       "|   |   |   |   |   |   |   |--- R >  53.00\n",
       "|   |   |   |   |   |   |   |   |--- class: 352000\n",
       "|   |   |   |   |   |   |--- Temperature >  37554.00\n",
       "|   |   |   |   |   |   |   |--- class: 204000\n",
       "|--- A_M >  4.57\n",
       "|   |--- class: 0\n",
       "</pre>"
      ],
      "text/plain": [
       "<IPython.core.display.HTML object>"
      ]
     },
     "execution_count": 13,
     "metadata": {},
     "output_type": "execute_result"
    }
   ],
   "source": [
    "clf = tree.DecisionTreeClassifier()\n",
    "clf = clf.fit(X, Y)\n",
    "from IPython.core.display import HTML\n",
    "from sklearn.tree.export import export_text\n",
    "tree_rules = export_text(clf, feature_names=list(X.columns))\n",
    "HTML('<pre>' + tree_rules + '</pre>')"
   ]
  },
  {
   "cell_type": "code",
   "execution_count": 14,
   "metadata": {},
   "outputs": [],
   "source": [
    "from sklearn.ensemble import RandomForestRegressor\n",
    "from sklearn.metrics import mean_absolute_error, mean_squared_error,  median_absolute_error, r2_score "
   ]
  },
  {
   "cell_type": "code",
   "execution_count": 15,
   "metadata": {},
   "outputs": [
    {
     "data": {
      "text/plain": [
       "RandomForestRegressor(n_estimators=5, oob_score=True, random_state=10)"
      ]
     },
     "execution_count": 15,
     "metadata": {},
     "output_type": "execute_result"
    }
   ],
   "source": [
    "forest_1 = RandomForestRegressor(n_estimators=5, oob_score=True, random_state=10)\n",
    "forest_1.fit(X, Y)"
   ]
  },
  {
   "cell_type": "code",
   "execution_count": 16,
   "metadata": {},
   "outputs": [
    {
     "name": "stdout",
     "output_type": "stream",
     "text": [
      "Средняя абсолютная ошибка: 29120.574999999997\n",
      "Средняя квадратичная ошибка: 5203187720.595\n",
      "Median absolute error: 0.0\n",
      "Коэффициент детерминации: 0.9230465292619281\n"
     ]
    }
   ],
   "source": [
    "Y_predict = forest_1.predict(X_test)\n",
    "print('Средняя абсолютная ошибка:',   mean_absolute_error(Y_test, Y_predict))\n",
    "print('Средняя квадратичная ошибка:', mean_squared_error(Y_test, Y_predict))\n",
    "print('Median absolute error:',       median_absolute_error(Y_test, Y_predict))\n",
    "print('Коэффициент детерминации:',    r2_score(Y_test, Y_predict))"
   ]
  },
  {
   "cell_type": "code",
   "execution_count": 17,
   "metadata": {},
   "outputs": [
    {
     "data": {
      "image/png": "[encoded data removed]",
      "text/plain": [
       "<Figure size 432x288 with 1 Axes>"
      ]
     },
     "metadata": {
      "needs_background": "light"
     },
     "output_type": "display_data"
    }
   ],
   "source": [
    "plt.scatter(X_test.R, Y_test,    marker = 'o', label = 'Тестовая выборка')\n",
    "plt.scatter(X_test.R, Y_predict, marker = '.', label = 'Предсказанные данные')\n",
    "plt.legend(loc = 'lower right')\n",
    "plt.xlabel('R')\n",
    "plt.ylabel('L')\n",
    "plt.show()"
   ]
  }
 ],
 "metadata": {
  "kernelspec": {
   "display_name": "Python 3",
   "language": "python",
   "name": "python3"
  },
  "language_info": {
   "codemirror_mode": {
    "name": "ipython",
    "version": 3
   },
   "file_extension": ".py",
   "mimetype": "text/x-python",
   "name": "python",
   "nbconvert_exporter": "python",
   "pygments_lexer": "ipython3",
   "version": "3.8.5"
  }
 },
 "nbformat": 4,
 "nbformat_minor": 4
}
